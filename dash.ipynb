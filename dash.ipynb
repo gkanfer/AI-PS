{
  "nbformat": 4,
  "nbformat_minor": 0,
  "metadata": {
    "colab": {
      "private_outputs": true,
      "provenance": [],
      "authorship_tag": "ABX9TyNn8Gzwwtrsgd0W6aI32Mje",
      "include_colab_link": true
    },
    "kernelspec": {
      "name": "python3",
      "display_name": "Python 3"
    },
    "language_info": {
      "name": "python"
    }
  },
  "cells": [
    {
      "cell_type": "markdown",
      "metadata": {
        "id": "view-in-github",
        "colab_type": "text"
      },
      "source": [
        "<a href=\"https://colab.research.google.com/github/gkanfer/AI-PS/blob/master/dash.ipynb\" target=\"_parent\"><img src=\"https://colab.research.google.com/assets/colab-badge.svg\" alt=\"Open In Colab\"/></a>"
      ]
    },
    {
      "cell_type": "code",
      "source": [
        "!pip install --upgrade plotly\n",
        "!pip install jupyter-dash -q\n",
        "!pip install dash-bootstrap-components"
      ],
      "metadata": {
        "id": "_35hBreZD1rZ"
      },
      "execution_count": null,
      "outputs": []
    },
    {
      "cell_type": "code",
      "source": [
        "from jupyter_dash import JupyterDash\n",
        "import dash\n",
        "from dash import dcc\n",
        "from dash import html\n",
        "from dash.dependencies import Input, Output\n",
        "import dash_bootstrap_components as dbc\n",
        "import pandas as pd\n",
        "import sys\n",
        "import numpy as np\n",
        "np.set_printoptions(threshold=sys.maxsize)\n",
        "\n",
        "import numpy as np\n",
        "import pandas as pd\n",
        "import pymc as pm\n",
        "import pytensor.tensor as pt\n",
        "import arviz as az\n",
        "np.set_printoptions(threshold=sys.maxsize)\n",
        "\n",
        "import matplotlib.pyplot as plt\n",
        "from PIL import Image\n",
        "import seaborn as sns\n",
        "import os\n",
        "import re\n",
        "import glob\n",
        "import random\n",
        "import plotnine\n",
        "from sklearn import preprocessing\n",
        "from tqdm import tqdm\n",
        "import plotly.express as px\n",
        "%config InlineBackend.figure_format = 'retina'\n",
        "import warnings\n",
        "warnings.filterwarnings('ignore')"
      ],
      "metadata": {
        "id": "L5AHiEj6EPzD"
      },
      "execution_count": null,
      "outputs": []
    },
    {
      "cell_type": "code",
      "source": [
        "import plotly.graph_objects as go\n",
        "import arviz as az\n",
        "RANDOM_SEED = 8927\n",
        "rng = np.random.default_rng(RANDOM_SEED)\n",
        "\n",
        "%config InlineBackend.figure_format = 'retina'\n",
        "az.style.use(\"arviz-darkgrid\")\n",
        "import warnings\n",
        "%config InlineBackend.figure_format = 'retina'\n",
        "warnings.simplefilter(action=\"ignore\", category=(FutureWarning, UserWarning))\n",
        "RANDOM_SEED = 8927\n",
        "np.random.seed(RANDOM_SEED)\n",
        "az.style.use(\"arviz-darkgrid\")\n",
        "az.rcParams[\"stats.hdi_prob\"] = 0.89\n",
        "az.rcParams[\"stats.ic_scale\"] = \"deviance\"\n",
        "az.rcParams[\"stats.information_criterion\"] = \"waic\"\n",
        "plt.rcParams[\"figure.figsize\"] = (3.5, 2.5) # sinnle column\n",
        "# #plt.rcParams[\"figure.figsize\"] = (7, 4) # double-column\n",
        "sns.set_context(\"paper\", font_scale=1.5)\n",
        "#sns.set_palette(\"colorblind\")\n",
        "plt.rcParams['figure.dpi'] = 150\n",
        "plt.rcParams['font.family'] = ['Times New Roman', 'serif']\n",
        "plt.rcParams['font.family'] = ['serif']\n",
        "plt.rcParams['font.size'] = 12\n",
        "plt.rcParams['axes.labelsize'] = 12\n",
        "plt.rcParams['axes.titlesize'] = 12\n",
        "plt.rcParams['xtick.labelsize'] = 12\n",
        "plt.rcParams['ytick.labelsize'] = 12"
      ],
      "metadata": {
        "id": "kWdXH8DkgbEP"
      },
      "execution_count": null,
      "outputs": []
    },
    {
      "cell_type": "code",
      "source": [
        "from google.colab import files\n",
        "uploaded = files.upload()\n",
        "import Simulate_model_colab as Simulate_model"
      ],
      "metadata": {
        "id": "psebXdkrjMoq"
      },
      "execution_count": null,
      "outputs": []
    },
    {
      "cell_type": "code",
      "source": [
        "# genrate model"
      ],
      "metadata": {
        "id": "NTKWzMJPgrPr"
      },
      "execution_count": null,
      "outputs": []
    },
    {
      "cell_type": "code",
      "source": [
        "app = JupyterDash(__name__)\n",
        "dropdown_menu = dcc.Dropdown(\n",
        "  id = \"x-value\",\n",
        "  options=[\n",
        "    {\"label\": \"M\", \"value\": \"M\"},\n",
        "    {\"label\": \"H0\", \"value\": \"H0\"},\n",
        "    {\"label\": \"Ht\", \"value\": \"Ht\"},\n",
        "    {\"label\": \"U\", \"value\": \"U\"},\n",
        "  ],\n",
        "  value=\"M\",\n",
        "),\n",
        "dcc.Dropdown(id = \"y-value\",options=[\n",
        "    {\"label\": \"M\", \"value\": \"M\"},\n",
        "    {\"label\": \"H0\", \"value\": \"H0\"},\n",
        "    {\"label\": \"Ht\", \"value\": \"Ht\"},\n",
        "    {\"label\": \"U\", \"value\": \"U\"},\n",
        "  ],\n",
        "  value=\"H0\",)\n",
        "\n",
        "\n",
        "app.layout = dbc.Container([\n",
        "        html.H1(\"AIPyS Model simulatoR\"),\n",
        "        html.Hr(),\n",
        "        dbc.Row([\n",
        "            dbc.Col([\n",
        "                dbc.Col([\n",
        "                    dbc.Label(\"Number of samples\"),\n",
        "                    dcc.Input(\n",
        "                                id=\"samples\",\n",
        "                                type=\"number\",\n",
        "                                placeholder=\"Entar number of samples to simulate e.g. 50\",\n",
        "                                value = 50,\n",
        "                                ),\n",
        "                    dbc.Label(\"Number of sgRNA\"),\n",
        "                    dcc.Input(\n",
        "                                id=\"sgRNA\",\n",
        "                                type=\"number\",\n",
        "                                placeholder=\"Entar number of samples to simulate e.g. 20\",\n",
        "                                value = 20,\n",
        "                                ),\n",
        "                    html.Button('Run', id='run-val', n_clicks=0),\n",
        "                    ], width={\"size\": 8}),\n",
        "                dbc.Col([\n",
        "                    dbc.Label(\"AIPyS Effect (beta)\"),\n",
        "                    dcc.Dropdown(\n",
        "                        id = \"aipys-eff\",\n",
        "                        options=[\n",
        "                          {\"effect\": \"yes\", \"value\": \"yes\"},\n",
        "                          {\"No effect\": \"no\", \"value\": \"no\"},\n",
        "                        ],\n",
        "                        value=\"no\",\n",
        "                      )]),\n",
        "                dbc.Col([\n",
        "                    dbc.Label(\"MOI effect (u)\"),\n",
        "                    dcc.Dropdown(\n",
        "                        id = \"moi-eff\",\n",
        "                        options=[\n",
        "                          {\"effect\": \"yes\", \"value\": \"yes\"},\n",
        "                          {\"No effect\": \"no\", \"value\": \"no\"},\n",
        "                        ],\n",
        "                        value=\"no\",\n",
        "                      )]),\n",
        "            dbc.Col([\n",
        "                    dcc.Markdown(r'$Ht \\sim (\\beta + \\tau) \\times H0$',dangerously_allow_html=True,mathjax=True),\n",
        "                    ],width={\"size\": 4}),\n",
        "            dbc.Row([\n",
        "                    html.Div(id='run_content'),\n",
        "                    dcc.Store(id='samples-out',data=None),\n",
        "                    dcc.Store(id='sgRNA-out',data=None),\n",
        "                    html.Div([\n",
        "                        dcc.Graph(\n",
        "                                id='violin-plot',\n",
        "                                style={'width': '50%','display': 'inline-block'}),\n",
        "                        dropdown_menu,\n",
        "                        dcc.Graph(\n",
        "                                id='scatter-plot',\n",
        "                                style={'width': '50%','display': 'inline-block'})])\n",
        "                    ])\n",
        "                ])\n",
        "      ])])\n",
        "\n",
        "@app.callback([Output('run_content','children'),Output('samples-out','data'),Output('sgRNA-out','data')],[Input('run-val','n_clicks'),Input('samples', 'value  '),Input('sgRNA', 'value')])\n",
        "def display_selection(run,samples,sgRNA):\n",
        "  return [dcc.Dropdown(id='group-drop',options=[{'label': i, 'value': i} for i in range(sgRNA)],value=sgRNA[0])],samp,sg\n",
        "\n",
        "\n",
        "@app.callback([Output('violin-plot', 'figure'),Output('scatter-plot', 'figure')],[Input('samples-out','data'),Input('sgRNA-out','data'),Input(\"aipys-eff\", \"value\"),Input(\"moi-eff\", \"value\"),Input(\"group-drop\", \"value\"),Input(\"x-value\", \"value\"),Input(\"y-value\", \"value\")])\n",
        "def update_plot(samp,sg,aipys,moi,sel,xval,yval):\n",
        "    sim = Simulate_model.Simulate_model(sgRNA_num = sg, samples = samp)\n",
        "    no_effect = [1]*20\n",
        "    #effect = [1]*2 + [3] + [1]*5\n",
        "    effect = pm.draw(pm.Gamma.dist(mu = 1, sigma =1), draws=20, random_seed=RANDOM_SEED).tolist()\n",
        "    #effect_rev = np.linspace(5,1,20).tolist()\n",
        "    effect_rev = np.repeat(np.arange(5,0,-1),4).tolist()\n",
        "    if moi == 'yes':\n",
        "      df,df_tall = sim.sim_base(U = True,z_ef = no_effect, u_ef = effect_rev, sg_ef = effect)\n",
        "    else:\n",
        "      df,df_tall = sim.sim_base(U = True,z_ef = no_effect, u_ef = no_effect, sg_ef = effect)\n",
        "\n",
        "    violin_fig = px.violin(df_tall, x=\"sgRNA\", y=\"FC\", box=True, points=\"all\",\n",
        "                           hover_data=df.columns, color='Group')\n",
        "\n",
        "    df_group = df_tall.loc[df_tall['sgRNA'] == sel,:]\n",
        "    trendline = np.polyfit(df_group[str(xval)], df_group[str(yval)], 1)\n",
        "    x = df_group[str(xval)].values\n",
        "    y = df_group[str(yval)].values\n",
        "    scatter_fig = px.scatter(df_group, x=str(xval), y=str(yval), trendline=\"ols\")\n",
        "    scatter_fig.add_trace(go.Scatter(x=x, y=trendline[0]*x + trendline[1],\n",
        "                   mode='lines',\n",
        "                   name=f'{sel} Trendline',))\n",
        "    return [violin_fig, scatter_fig]\n",
        "\n",
        "app.run_server(port=8034,mode='inline')"
      ],
      "metadata": {
        "id": "zsjOHZw2FVcQ"
      },
      "execution_count": null,
      "outputs": []
    }
  ]
}